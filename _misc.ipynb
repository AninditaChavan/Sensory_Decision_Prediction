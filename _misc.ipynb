{
 "cells": [
  {
   "cell_type": "code",
   "execution_count": 1,
   "metadata": {},
   "outputs": [
    {
     "name": "stdout",
     "output_type": "stream",
     "text": [
      "Video 0 created from frame 120 to 221\n",
      "Video 1 created from frame 379 to 484\n"
     ]
    }
   ],
   "source": [
    "import pandas as pd\n",
    "import os\n",
    "import cv2\n",
    "import random\n",
    "\n",
    "def cut_mp4_by_frame(video_path, output_path, start_frame, end_frame):\n",
    "    ''' \n",
    "    Cut a video file from start_frame to end_frame and save it to output_path \n",
    "    '''\n",
    "    # Open the video file\n",
    "    cap = cv2.VideoCapture(video_path)\n",
    "    # Check if video opened successfully\n",
    "    if not cap.isOpened():\n",
    "        print(\"Error: Could not open video file.\")\n",
    "        exit()\n",
    "    # Set the frame position to start_frame\n",
    "    cap.set(cv2.CAP_PROP_POS_FRAMES, start_frame)\n",
    "    # Video writer setup\n",
    "    fourcc = cv2.VideoWriter_fourcc(*'mp4v')  # codec for .mp4 format\n",
    "    fps = 60  # or you can use cap.get(cv2.CAP_PROP_FPS) to use the original video's fps\n",
    "    width = int(cap.get(cv2.CAP_PROP_FRAME_WIDTH))\n",
    "    height = int(cap.get(cv2.CAP_PROP_FRAME_HEIGHT))\n",
    "    out = cv2.VideoWriter(output_path, fourcc, fps, (width, height))\n",
    "\n",
    "    while cap.isOpened():\n",
    "        ret, frame = cap.read()\n",
    "        # Break the loop if we've reached the end of the video or the end frame\n",
    "        if not ret or int(cap.get(cv2.CAP_PROP_POS_FRAMES)) > end_frame:\n",
    "            break\n",
    "        # Write the frame to the output video\n",
    "        out.write(frame)\n",
    "\n",
    "    # Release the video objects and close all OpenCV windows\n",
    "    cap.release()\n",
    "    out.release()\n",
    "    cv2.destroyAllWindows()\n",
    "\n",
    "def split_videos_from_csv(csv_path, video_path, save_path, indices):\n",
    "    df = pd.read_csv(csv_path)\n",
    "    os.makedirs(save_path, exist_ok=True)\n",
    "    # Iterate through the specified indices and cut the videos\n",
    "    for index in indices:\n",
    "        start_frame = df.loc[index, 'FrameStart']\n",
    "        end_frame = df.loc[index, 'FrameStop']\n",
    "        output_path = os.path.join(save_path, f'video_{index}.mp4')\n",
    "        cut_mp4_by_frame(video_path, output_path, start_frame, end_frame)\n",
    "        print(f\"Video {index} created from frame {start_frame} to {end_frame}\")\n",
    "\n",
    "csv_path = './data/example.csv'\n",
    "video_path = './data/example.mp4'\n",
    "save_path = './output/split_videos/'\n",
    "indices = [0,1] #random.sample(range(0, 25), 5)  # Example indices\n",
    "split_videos_from_csv(csv_path, video_path, save_path, indices)\n",
    "\n"
   ]
  }
 ],
 "metadata": {
  "kernelspec": {
   "display_name": "base",
   "language": "python",
   "name": "python3"
  },
  "language_info": {
   "codemirror_mode": {
    "name": "ipython",
    "version": 3
   },
   "file_extension": ".py",
   "mimetype": "text/x-python",
   "name": "python",
   "nbconvert_exporter": "python",
   "pygments_lexer": "ipython3",
   "version": "3.10.10"
  },
  "orig_nbformat": 4
 },
 "nbformat": 4,
 "nbformat_minor": 2
}
